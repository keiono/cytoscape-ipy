{
 "metadata": {
  "name": "",
  "signature": "sha256:8807616ffede540bb3dd0e95ab5283d929ee7e5af661134da56e143defe13d75"
 },
 "nbformat": 3,
 "nbformat_minor": 0,
 "worksheets": [
  {
   "cells": [
    {
     "cell_type": "markdown",
     "metadata": {},
     "source": [
      "# Sample Workflow with Cytoscape and Cytoscape.js"
     ]
    },
    {
     "cell_type": "code",
     "collapsed": false,
     "input": [
      "# Load libraries\n",
      "from IPython.html.widgets import interact\n",
      "from IPython.html.widgets import *\n",
      "from IPython.html import widgets\n",
      "import cytoscape.viewer as cy\n",
      "import json\n",
      "import networkx as nx\n",
      "from igraph import *\n",
      "\n",
      "%matplotlib inline\n",
      "import matplotlib.pyplot as plt\n",
      "\n",
      "import requests\n",
      "\n",
      "import pandas as pd"
     ],
     "language": "python",
     "metadata": {},
     "outputs": [],
     "prompt_number": 16
    },
    {
     "cell_type": "code",
     "collapsed": false,
     "input": [
      "# Make sure Cytoscape  RESTful API is running!\n",
      "cytoscape_version = requests.get('http://localhost:8080/v1/version')\n",
      "print(\"Cytoscape version is \" +  json.loads(cytoscape_version.text)[\"cytoscapeVersion\"])\n",
      "\n",
      "res = requests.get('http://localhost:8080/v1/networks/count')\n",
      "print(res.text)"
     ],
     "language": "python",
     "metadata": {},
     "outputs": [
      {
       "output_type": "stream",
       "stream": "stdout",
       "text": [
        "Cytoscape version is 3.1.0\n",
        "{\"networkCount\":6}\n"
       ]
      }
     ],
     "prompt_number": 17
    },
    {
     "cell_type": "markdown",
     "metadata": {},
     "source": [
      "## Import & Generate Data in Python\n",
      "\n",
      "### Generate scale-free graphs with NetworkX"
     ]
    },
    {
     "cell_type": "code",
     "collapsed": false,
     "input": [
      "graphs = []\n",
      "\n",
      "for i in range(5):\n",
      "    # Generate scale-free graph\n",
      "    g = nx.scale_free_graph(100);\n",
      "    \n",
      "    # Perform simple graph analysis\n",
      "    \n",
      "    # Node statistics\n",
      "    bc = nx.betweenness_centrality(g)\n",
      "    degree = nx.degree(g)\n",
      "    cc = nx.closeness_centrality(g)\n",
      "    nx.set_node_attributes(g, 'betweenness', bc)\n",
      "    nx.set_node_attributes(g, 'closeness', cc)\n",
      "    nx.set_node_attributes(g, 'degree', degree)\n",
      "    \n",
      "    # Network statistics\n",
      "    g.graph[\"avg_shortest_path_len\"] = nx.average_shortest_path_length(g)\n",
      "    g.graph[\"density\"] = nx.density(g)\n",
      "    graphs.append(g)\n",
      "\n",
      "\n",
      "# Calculate statistics on the network\n",
      "\n",
      "# Visualize with matplotlib\n",
      "# nx.draw(graphs[0])\n",
      "# plt.show()"
     ],
     "language": "python",
     "metadata": {},
     "outputs": [],
     "prompt_number": 18
    },
    {
     "cell_type": "markdown",
     "metadata": {},
     "source": [
      "### Send all network models to Cytoscape"
     ]
    },
    {
     "cell_type": "code",
     "collapsed": false,
     "input": [
      "# Remove all networks\n",
      "requests.delete('http://localhost:8080/v1/networks')\n",
      "\n",
      "headers = {'Content-Type': 'application/json'}\n",
      "\n",
      "for graph in graphs:\n",
      "    cyjs_network = cy.from_networkx(graph)\n",
      "    res1 = requests.post(\"http://localhost:8080/v1/networks\", data=json.dumps(cyjs_network), headers=headers)\n",
      "    result = json.loads(res1.content)\n",
      "    network_suid = result[\"networkSUID\"]\n",
      "    res2 = requests.get(\"http://localhost:8080/v1/apply/layouts/force-directed/\" + str(network_suid))"
     ],
     "language": "python",
     "metadata": {},
     "outputs": [],
     "prompt_number": 19
    },
    {
     "cell_type": "markdown",
     "metadata": {},
     "source": [
      "## (Now graphs are in Cytoscape.  Do analysis, visualization, etc...)"
     ]
    },
    {
     "cell_type": "markdown",
     "metadata": {},
     "source": [
      "## Get the visualization back to this notebook."
     ]
    },
    {
     "cell_type": "code",
     "collapsed": false,
     "input": [
      "response = requests.get(\"http://localhost:8080/v1/networks?format=SUID\")\n",
      "network_list = json.loads(response.content)\n",
      "print(network_list)\n",
      "\n",
      "network_views = []\n",
      "for suid in network_list:\n",
      "    response2 = requests.get(\"http://localhost:8080/v1/networks/\" + str(suid) + \"/views/first\")\n",
      "    network_views.append(json.loads(response2.content))"
     ],
     "language": "python",
     "metadata": {},
     "outputs": [
      {
       "output_type": "stream",
       "stream": "stdout",
       "text": [
        "[5384, 6048, 6756, 4072, 4714]\n"
       ]
      }
     ],
     "prompt_number": 20
    },
    {
     "cell_type": "code",
     "collapsed": false,
     "input": [
      "# Visual Style can be a simple Python object!\n",
      "\n",
      "my_style = {\n",
      "  \"title\" : \"My Style 10\",\n",
      "  \"defaults\" : [ {\n",
      "    \"visualProperty\" : \"EDGE_WIDTH\",\n",
      "    \"value\" : 11.0\n",
      "  }, {\n",
      "    \"visualProperty\" : \"EDGE_STROKE_UNSELECTED_PAINT\",\n",
      "    \"value\" : \"#00ddff\"\n",
      "  }, {\n",
      "    \"visualProperty\" : \"NODE_WIDTH\",\n",
      "    \"value\" : 20\n",
      "  }, {\n",
      "    \"visualProperty\" : \"NODE_HEIGHT\",\n",
      "    \"value\" : 20\n",
      "  }],\n",
      "  \"mappings\" : [ {\n",
      "    \"mappingType\" : \"discrete\",\n",
      "    \"mappingColumn\" : \"degree\",\n",
      "    \"mappingColumnType\" : \"Integer\",\n",
      "    \"visualProperty\" : \"NODE_FILL_COLOR\",\n",
      "    \"map\" : [ {\n",
      "      \"key\" : \"1\",\n",
      "      \"value\" : \"#440055\"\n",
      "    }, {\n",
      "      \"key\" : \"4\",\n",
      "      \"value\" : \"#00FF11\"\n",
      "    } ]\n",
      "  }, {\n",
      "    \"mappingType\" : \"passthrough\",\n",
      "    \"mappingColumn\" : \"name\",\n",
      "    \"mappingColumnType\" : \"String\",\n",
      "    \"visualProperty\" : \"NODE_LABEL\"\n",
      "  } ]\n",
      "}\n",
      "\n",
      "requests.post(\"http://localhost:8080/v1/styles\", data=json.dumps(my_style), headers=headers)"
     ],
     "language": "python",
     "metadata": {},
     "outputs": [
      {
       "metadata": {},
       "output_type": "pyout",
       "prompt_number": 21,
       "text": [
        "<Response [204]>"
       ]
      }
     ],
     "prompt_number": 21
    },
    {
     "cell_type": "markdown",
     "metadata": {},
     "source": [
      "## Generate Visual Style Programatically"
     ]
    },
    {
     "cell_type": "code",
     "collapsed": false,
     "input": [
      "style_res = requests.get(\"http://localhost:8080/v1/styles/default\")\n",
      "style_array = json.loads(style_res.content)\n",
      "style2 = style_array[0]['style']\n",
      "\n",
      "cy.render(network_views[4], style2)"
     ],
     "language": "python",
     "metadata": {},
     "outputs": [
      {
       "html": [
        "<!DOCTYPE html>\n",
        "<html>\n",
        "\n",
        "<head>\n",
        "    <meta charset=utf-8 />\n",
        "    <style type=\"text/css\">\n",
        "      body {\n",
        "          font: 14px helvetica neue, helvetica, arial, sans-serif;\n",
        "      }\n",
        "\n",
        "      #cy1890f79a-9e48-40cc-aea7-22a74469144c {\n",
        "        height: 700px;\n",
        "        width: 1160px;\n",
        "        position: absolute;\n",
        "        left: 4px;\n",
        "        top: 5px;\n",
        "        background-color: #fafafa;\n",
        "      }\n",
        "    </style>\n",
        "\n",
        "    <script>\n",
        "    (function() {\n",
        "      function render() {\n",
        "        $('#cy1890f79a-9e48-40cc-aea7-22a74469144c').cytoscape({\n",
        "            elements: {\n",
        "                nodes: [{\"position\": {\"y\": -126.6869465237856, \"x\": -311.04179536521434}, \"selected\": false, \"data\": {\"name\": \"99\", \"degree\": 1, \"SUID\": 4823, \"selected\": false, \"closeness\": 0.06885758998435054, \"betweenness\": 0.0, \"shared_name\": \"99\", \"id\": \"99\"}}, {\"position\": {\"y\": -262.4995991116762, \"x\": 72.61924589455128}, \"selected\": false, \"data\": {\"name\": \"98\", \"degree\": 1, \"SUID\": 4822, \"selected\": false, \"closeness\": 0.08429118773946359, \"betweenness\": 0.0, \"shared_name\": \"98\", \"id\": \"98\"}}, {\"position\": {\"y\": 269.6285594576597, \"x\": 72.80625761330128}, \"selected\": false, \"data\": {\"name\": \"97\", \"degree\": 1, \"SUID\": 4821, \"selected\": false, \"closeness\": 0.08429118773946359, \"betweenness\": 0.0, \"shared_name\": \"97\", \"id\": \"97\"}}, {\"position\": {\"y\": -231.28347362339497, \"x\": 267.2520889121294}, \"selected\": false, \"data\": {\"name\": \"96\", \"degree\": 1, \"SUID\": 4820, \"selected\": false, \"closeness\": 0.07182940516273849, \"betweenness\": 0.0, \"shared_name\": \"96\", \"id\": \"96\"}}, {\"position\": {\"y\": -153.9428058987856, \"x\": 197.0010360556841}, \"selected\": false, \"data\": {\"name\": \"95\", \"degree\": 1, \"SUID\": 4819, \"selected\": false, \"closeness\": 0.08429118773946359, \"betweenness\": 0.0, \"shared_name\": \"95\", \"id\": \"95\"}}, {\"position\": {\"y\": 163.6120036715269, \"x\": -303.75053559958934}, \"selected\": false, \"data\": {\"name\": \"94\", \"degree\": 1, \"SUID\": 4818, \"selected\": false, \"closeness\": 0.010101010101010102, \"betweenness\": 0.0, \"shared_name\": \"94\", \"id\": \"94\"}}, {\"position\": {\"y\": -363.40969432651997, \"x\": -237.2631698769331}, \"selected\": false, \"data\": {\"name\": \"93\", \"degree\": 1, \"SUID\": 4817, \"selected\": false, \"closeness\": 0.010101010101010102, \"betweenness\": 0.0, \"shared_name\": \"93\", \"id\": \"93\"}}, {\"position\": {\"y\": 1.0306132906675316, \"x\": 444.4833892661333}, \"selected\": false, \"data\": {\"name\": \"92\", \"degree\": 1, \"SUID\": 4816, \"selected\": false, \"closeness\": 0.010101010101010102, \"betweenness\": 0.0, \"shared_name\": \"92\", \"id\": \"92\"}}, {\"position\": {\"y\": -276.5924946194887, \"x\": 18.443159468770034}, \"selected\": false, \"data\": {\"name\": \"91\", \"degree\": 1, \"SUID\": 4815, \"selected\": false, \"closeness\": 0.08429118773946359, \"betweenness\": 0.0, \"shared_name\": \"91\", \"id\": \"91\"}}, {\"position\": {\"y\": -137.27648509800434, \"x\": -120.44889985740184}, \"selected\": false, \"data\": {\"name\": \"90\", \"degree\": 1, \"SUID\": 4814, \"selected\": false, \"closeness\": 0.08429118773946359, \"betweenness\": 0.0, \"shared_name\": \"90\", \"id\": \"90\"}}, {\"position\": {\"y\": -3.2368122464418434, \"x\": -311.0019394081831}, \"selected\": false, \"data\": {\"name\": \"89\", \"degree\": 1, \"SUID\": 4813, \"selected\": false, \"closeness\": 0.06885758998435054, \"betweenness\": 0.0, \"shared_name\": \"89\", \"id\": \"89\"}}, {\"position\": {\"y\": -326.6230121976137, \"x\": -313.58024751365184}, \"selected\": false, \"data\": {\"name\": \"88\", \"degree\": 1, \"SUID\": 4812, \"selected\": false, \"closeness\": 0.010101010101010102, \"betweenness\": 0.0, \"shared_name\": \"88\", \"id\": \"88\"}}, {\"position\": {\"y\": -257.07070506870747, \"x\": 123.56962431252003}, \"selected\": false, \"data\": {\"name\": \"87\", \"degree\": 1, \"SUID\": 4811, \"selected\": false, \"closeness\": 0.08429118773946359, \"betweenness\": 0.0, \"shared_name\": \"87\", \"id\": \"87\"}}, {\"position\": {\"y\": 116.97915302455425, \"x\": -399.09758149802684}, \"selected\": false, \"data\": {\"name\": \"86\", \"degree\": 1, \"SUID\": 4810, \"selected\": false, \"closeness\": 0.06596832522758449, \"betweenness\": 0.0, \"shared_name\": \"86\", \"id\": \"86\"}}, {\"position\": {\"y\": -99.80221141636372, \"x\": 211.56530607521535}, \"selected\": false, \"data\": {\"name\": \"85\", \"degree\": 1, \"SUID\": 4809, \"selected\": false, \"closeness\": 0.08429118773946359, \"betweenness\": 0.0, \"shared_name\": \"85\", \"id\": \"85\"}}, {\"position\": {\"y\": 141.68647419154644, \"x\": -13.644273392558091}, \"selected\": false, \"data\": {\"name\": \"84\", \"degree\": 1, \"SUID\": 4808, \"selected\": false, \"closeness\": 0.08429118773946359, \"betweenness\": 0.0, \"shared_name\": \"84\", \"id\": \"84\"}}, {\"position\": {\"y\": 264.50791584193706, \"x\": 196.7296737509966}, \"selected\": false, \"data\": {\"name\": \"83\", \"degree\": 1, \"SUID\": 4807, \"selected\": false, \"closeness\": 0.0, \"betweenness\": 0.0, \"shared_name\": \"83\", \"id\": \"83\"}}, {\"position\": {\"y\": 225.84244381129741, \"x\": -268.90617524802684}, \"selected\": false, \"data\": {\"name\": \"82\", \"degree\": 1, \"SUID\": 4806, \"selected\": false, \"closeness\": 0.010101010101010102, \"betweenness\": 0.0, \"shared_name\": \"82\", \"id\": \"82\"}}, {\"position\": {\"y\": 290.6592143648863, \"x\": -313.7422958534956}, \"selected\": false, \"data\": {\"name\": \"81\", \"degree\": 1, \"SUID\": 4805, \"selected\": false, \"closeness\": 0.010101010101010102, \"betweenness\": 0.0, \"shared_name\": \"81\", \"id\": \"81\"}}, {\"position\": {\"y\": -261.7305561429262, \"x\": -450.5174423378706}, \"selected\": false, \"data\": {\"name\": \"80\", \"degree\": 1, \"SUID\": 4804, \"selected\": false, \"closeness\": 0.05684504620674833, \"betweenness\": 0.0, \"shared_name\": \"80\", \"id\": \"80\"}}, {\"position\": {\"y\": 352.0222362154722, \"x\": 35.62251127541066}, \"selected\": false, \"data\": {\"name\": \"79\", \"degree\": 1, \"SUID\": 4803, \"selected\": false, \"closeness\": 0.010101010101010102, \"betweenness\": 0.0, \"shared_name\": \"79\", \"id\": \"79\"}}, {\"position\": {\"y\": 398.0868266695738, \"x\": -58.025102249979966}, \"selected\": false, \"data\": {\"name\": \"78\", \"degree\": 1, \"SUID\": 4802, \"selected\": false, \"closeness\": 0.01346801346801347, \"betweenness\": 0.0, \"shared_name\": \"78\", \"id\": \"78\"}}, {\"position\": {\"y\": 68.6644939059019, \"x\": 395.6113720613718}, \"selected\": false, \"data\": {\"name\": \"77\", \"degree\": 1, \"SUID\": 4801, \"selected\": false, \"closeness\": 0.06432748538011696, \"betweenness\": 0.0, \"shared_name\": \"77\", \"id\": \"77\"}}, {\"position\": {\"y\": 58.70782886683941, \"x\": 184.22347868263722}, \"selected\": false, \"data\": {\"name\": \"76\", \"degree\": 1, \"SUID\": 4800, \"selected\": false, \"closeness\": 0.08429118773946359, \"betweenness\": 0.0, \"shared_name\": \"76\", \"id\": \"76\"}}, {\"position\": {\"y\": -60.57937206089497, \"x\": 296.63471830666066}, \"selected\": false, \"data\": {\"name\": \"75\", \"degree\": 1, \"SUID\": 4799, \"selected\": false, \"closeness\": 0.0, \"betweenness\": 0.0, \"shared_name\": \"75\", \"id\": \"75\"}}, {\"position\": {\"y\": -208.5724445706606, \"x\": 170.75219572365285}, \"selected\": false, \"data\": {\"name\": \"74\", \"degree\": 1, \"SUID\": 4798, \"selected\": false, \"closeness\": 0.0, \"betweenness\": 0.0, \"shared_name\": \"74\", \"id\": \"74\"}}, {\"position\": {\"y\": 340.5657924288511, \"x\": -128.93144380271434}, \"selected\": false, \"data\": {\"name\": \"73\", \"degree\": 1, \"SUID\": 4797, \"selected\": false, \"closeness\": 0.010101010101010102, \"betweenness\": 0.0, \"shared_name\": \"73\", \"id\": \"73\"}}, {\"position\": {\"y\": 51.19333301723003, \"x\": -136.1164413613081}, \"selected\": false, \"data\": {\"name\": \"72\", \"degree\": 1, \"SUID\": 4796, \"selected\": false, \"closeness\": 0.08429118773946359, \"betweenness\": 0.0, \"shared_name\": \"72\", \"id\": \"72\"}}, {\"position\": {\"y\": -62.77801097691059, \"x\": -344.5560165566206}, \"selected\": false, \"data\": {\"name\": \"71\", \"degree\": 1, \"SUID\": 4795, \"selected\": false, \"closeness\": 0.06885758998435054, \"betweenness\": 0.0, \"shared_name\": \"71\", \"id\": \"71\"}}, {\"position\": {\"y\": 195.12931095302105, \"x\": -72.52229463279247}, \"selected\": false, \"data\": {\"name\": \"70\", \"degree\": 3, \"SUID\": 4794, \"selected\": false, \"closeness\": 0.0, \"betweenness\": 0.0, \"shared_name\": \"70\", \"id\": \"70\"}}, {\"position\": {\"y\": -154.6032062894106, \"x\": 144.70461881935597}, \"selected\": false, \"data\": {\"name\": \"69\", \"degree\": 1, \"SUID\": 4793, \"selected\": false, \"closeness\": 0.08429118773946359, \"betweenness\": 0.0, \"shared_name\": \"69\", \"id\": \"69\"}}, {\"position\": {\"y\": -186.71773876011372, \"x\": -332.59208833396434}, \"selected\": false, \"data\": {\"name\": \"68\", \"degree\": 2, \"SUID\": 4792, \"selected\": false, \"closeness\": 0.06885758998435054, \"betweenness\": 0.0022675736961451248, \"shared_name\": \"68\", \"id\": \"68\"}}, {\"position\": {\"y\": 116.66294513881206, \"x\": 41.212446578145034}, \"selected\": false, \"data\": {\"name\": \"67\", \"degree\": 1, \"SUID\": 4791, \"selected\": false, \"closeness\": 0.08429118773946359, \"betweenness\": 0.0, \"shared_name\": \"67\", \"id\": \"67\"}}, {\"position\": {\"y\": 126.17608295619488, \"x\": 122.98695219337941}, \"selected\": false, \"data\": {\"name\": \"66\", \"degree\": 1, \"SUID\": 4790, \"selected\": false, \"closeness\": 0.08429118773946359, \"betweenness\": 0.0, \"shared_name\": \"66\", \"id\": \"66\"}}, {\"position\": {\"y\": 232.81537567317486, \"x\": 17.414045699238784}, \"selected\": false, \"data\": {\"name\": \"65\", \"degree\": 2, \"SUID\": 4789, \"selected\": false, \"closeness\": 0.0, \"betweenness\": 0.0, \"shared_name\": \"65\", \"id\": \"65\"}}, {\"position\": {\"y\": -75.47594798862934, \"x\": -281.3454452675581}, \"selected\": false, \"data\": {\"name\": \"64\", \"degree\": 1, \"SUID\": 4788, \"selected\": false, \"closeness\": 0.0, \"betweenness\": 0.0, \"shared_name\": \"64\", \"id\": \"64\"}}, {\"position\": {\"y\": 111.22462116420269, \"x\": 270.03535307228566}, \"selected\": false, \"data\": {\"name\": \"63\", \"degree\": 2, \"SUID\": 4787, \"selected\": false, \"closeness\": 0.0, \"betweenness\": 0.0, \"shared_name\": \"63\", \"id\": \"63\"}}, {\"position\": {\"y\": 269.90708576381206, \"x\": 427.8142627555132}, \"selected\": false, \"data\": {\"name\": \"62\", \"degree\": 1, \"SUID\": 4786, \"selected\": false, \"closeness\": 0.06596832522758449, \"betweenness\": 0.0, \"shared_name\": \"62\", \"id\": \"62\"}}, {\"position\": {\"y\": -23.070552480816843, \"x\": -114.63002168357372}, \"selected\": false, \"data\": {\"name\": \"61\", \"degree\": 1, \"SUID\": 4785, \"selected\": false, \"closeness\": 0.08429118773946359, \"betweenness\": 0.0, \"shared_name\": \"61\", \"id\": \"61\"}}, {\"position\": {\"y\": -116.05459178745747, \"x\": -173.3276230019331}, \"selected\": false, \"data\": {\"name\": \"60\", \"degree\": 1, \"SUID\": 4784, \"selected\": false, \"closeness\": 0.08429118773946359, \"betweenness\": 0.0, \"shared_name\": \"60\", \"id\": \"60\"}}, {\"position\": {\"y\": -150.28469432651997, \"x\": 26.55048979103566}, \"selected\": false, \"data\": {\"name\": \"59\", \"degree\": 5, \"SUID\": 4783, \"selected\": false, \"closeness\": 0.0873015873015873, \"betweenness\": 0.0, \"shared_name\": \"59\", \"id\": \"59\"}}, {\"position\": {\"y\": 39.44260059535503, \"x\": -414.96940766990184}, \"selected\": false, \"data\": {\"name\": \"58\", \"degree\": 1, \"SUID\": 4782, \"selected\": false, \"closeness\": 0.06596832522758449, \"betweenness\": 0.0, \"shared_name\": \"58\", \"id\": \"58\"}}, {\"position\": {\"y\": 233.19078384578228, \"x\": 125.88307035744191}, \"selected\": false, \"data\": {\"name\": \"57\", \"degree\": 1, \"SUID\": 4781, \"selected\": false, \"closeness\": 0.08429118773946359, \"betweenness\": 0.0, \"shared_name\": \"57\", \"id\": \"57\"}}, {\"position\": {\"y\": -126.31173290073872, \"x\": -57.568742386698716}, \"selected\": false, \"data\": {\"name\": \"56\", \"degree\": 2, \"SUID\": 4780, \"selected\": false, \"closeness\": 0.08429118773946359, \"betweenness\": 0.0, \"shared_name\": \"56\", \"id\": \"56\"}}, {\"position\": {\"y\": 192.9444755190611, \"x\": 305.0641464072466}, \"selected\": false, \"data\": {\"name\": \"55\", \"degree\": 2, \"SUID\": 4779, \"selected\": false, \"closeness\": 0.08429118773946359, \"betweenness\": 0.0022675736961451248, \"shared_name\": \"55\", \"id\": \"55\"}}, {\"position\": {\"y\": 2.6721233004331566, \"x\": 251.93308866798878}, \"selected\": false, \"data\": {\"name\": \"54\", \"degree\": 3, \"SUID\": 4778, \"selected\": false, \"closeness\": 0.08249158249158249, \"betweenness\": 0.002164502164502164, \"shared_name\": \"54\", \"id\": \"54\"}}, {\"position\": {\"y\": -163.32445873081684, \"x\": 301.13832701027394}, \"selected\": false, \"data\": {\"name\": \"53\", \"degree\": 1, \"SUID\": 4777, \"selected\": false, \"closeness\": 0.0, \"betweenness\": 0.0, \"shared_name\": \"53\", \"id\": \"53\"}}, {\"position\": {\"y\": -70.16305126011372, \"x\": 79.01286161720753}, \"selected\": false, \"data\": {\"name\": \"52\", \"degree\": 1, \"SUID\": 4776, \"selected\": false, \"closeness\": 0.08429118773946359, \"betweenness\": 0.0, \"shared_name\": \"52\", \"id\": \"52\"}}, {\"position\": {\"y\": 27.055286752581594, \"x\": -26.617875687479966}, \"selected\": false, \"data\": {\"name\": \"51\", \"degree\": 4, \"SUID\": 4775, \"selected\": false, \"closeness\": 0.1111111111111111, \"betweenness\": 0.0003951075379646808, \"shared_name\": \"51\", \"id\": \"51\"}}, {\"position\": {\"y\": 156.0617564791441, \"x\": 83.87013090431691}, \"selected\": false, \"data\": {\"name\": \"50\", \"degree\": 2, \"SUID\": 4774, \"selected\": false, \"closeness\": 0.0, \"betweenness\": 0.0, \"shared_name\": \"50\", \"id\": \"50\"}}, {\"position\": {\"y\": 43.84970508754253, \"x\": 290.8193725425005}, \"selected\": false, \"data\": {\"name\": \"49\", \"degree\": 3, \"SUID\": 4773, \"selected\": false, \"closeness\": 0.0, \"betweenness\": 0.0, \"shared_name\": \"49\", \"id\": \"49\"}}, {\"position\": {\"y\": -77.12124217808247, \"x\": -26.694474808573716}, \"selected\": false, \"data\": {\"name\": \"48\", \"degree\": 3, \"SUID\": 4772, \"selected\": false, \"closeness\": 0.0, \"betweenness\": 0.0, \"shared_name\": \"48\", \"id\": \"48\"}}, {\"position\": {\"y\": 32.98282276332378, \"x\": 112.04444731056691}, \"selected\": false, \"data\": {\"name\": \"47\", \"degree\": 5, \"SUID\": 4771, \"selected\": false, \"closeness\": 0.08566433566433566, \"betweenness\": 0.007111935683364255, \"shared_name\": \"47\", \"id\": \"47\"}}, {\"position\": {\"y\": -192.95736278355122, \"x\": -78.29509126365184}, \"selected\": false, \"data\": {\"name\": \"46\", \"degree\": 1, \"SUID\": 4770, \"selected\": false, \"closeness\": 0.08429118773946359, \"betweenness\": 0.0, \"shared_name\": \"46\", \"id\": \"46\"}}, {\"position\": {\"y\": -10.268642080426218, \"x\": -179.95414888083934}, \"selected\": false, \"data\": {\"name\": \"45\", \"degree\": 2, \"SUID\": 4769, \"selected\": false, \"closeness\": 0.0873015873015873, \"betweenness\": 0.0, \"shared_name\": \"45\", \"id\": \"45\"}}, {\"position\": {\"y\": -240.99624217808247, \"x\": -100.79274141013622}, \"selected\": false, \"data\": {\"name\": \"44\", \"degree\": 2, \"SUID\": 4768, \"selected\": false, \"closeness\": 0.0873015873015873, \"betweenness\": 0.0, \"shared_name\": \"44\", \"id\": \"44\"}}, {\"position\": {\"y\": -82.63607372105122, \"x\": -101.07176362693309}, \"selected\": false, \"data\": {\"name\": \"43\", \"degree\": 2, \"SUID\": 4767, \"selected\": false, \"closeness\": 0.09224318658280922, \"betweenness\": 0.0, \"shared_name\": \"43\", \"id\": \"43\"}}, {\"position\": {\"y\": -173.67690624058247, \"x\": -259.24650727927684}, \"selected\": false, \"data\": {\"name\": \"42\", \"degree\": 1, \"SUID\": 4766, \"selected\": false, \"closeness\": 0.06885758998435054, \"betweenness\": 0.0, \"shared_name\": \"42\", \"id\": \"42\"}}, {\"position\": {\"y\": -254.84695018589497, \"x\": -39.29515229880809}, \"selected\": false, \"data\": {\"name\": \"41\", \"degree\": 1, \"SUID\": 4765, \"selected\": false, \"closeness\": 0.08429118773946359, \"betweenness\": 0.0, \"shared_name\": \"41\", \"id\": \"41\"}}, {\"position\": {\"y\": 221.25982778012752, \"x\": 239.89855802834035}, \"selected\": false, \"data\": {\"name\": \"40\", \"degree\": 1, \"SUID\": 4764, \"selected\": false, \"closeness\": 0.08429118773946359, \"betweenness\": 0.0, \"shared_name\": \"40\", \"id\": \"40\"}}, {\"position\": {\"y\": -164.13320506870747, \"x\": -26.792924515604966}, \"selected\": false, \"data\": {\"name\": \"39\", \"degree\": 1, \"SUID\": 4763, \"selected\": false, \"closeness\": 0.08429118773946359, \"betweenness\": 0.0, \"shared_name\": \"39\", \"id\": \"39\"}}, {\"position\": {\"y\": 331.99380146205425, \"x\": -243.1586776894331}, \"selected\": false, \"data\": {\"name\": \"38\", \"degree\": 1, \"SUID\": 4762, \"selected\": false, \"closeness\": 0.010101010101010102, \"betweenness\": 0.0, \"shared_name\": \"38\", \"id\": \"38\"}}, {\"position\": {\"y\": -200.57760204136372, \"x\": 71.53034818947316}, \"selected\": false, \"data\": {\"name\": \"37\", \"degree\": 1, \"SUID\": 4761, \"selected\": false, \"closeness\": 0.08429118773946359, \"betweenness\": 0.0, \"shared_name\": \"37\", \"id\": \"37\"}}, {\"position\": {\"y\": -202.7687336331606, \"x\": 118.48252714455128}, \"selected\": false, \"data\": {\"name\": \"36\", \"degree\": 1, \"SUID\": 4760, \"selected\": false, \"closeness\": 0.08429118773946359, \"betweenness\": 0.0, \"shared_name\": \"36\", \"id\": \"36\"}}, {\"position\": {\"y\": 128.36367450892925, \"x\": -80.62782441794872}, \"selected\": false, \"data\": {\"name\": \"35\", \"degree\": 3, \"SUID\": 4759, \"selected\": false, \"closeness\": 0.08888888888888889, \"betweenness\": 0.0, \"shared_name\": \"35\", \"id\": \"35\"}}, {\"position\": {\"y\": -377.2857319241762, \"x\": -35.53239595115184}, \"selected\": false, \"data\": {\"name\": \"34\", \"degree\": 1, \"SUID\": 4758, \"selected\": false, \"closeness\": 0.0, \"betweenness\": 0.0, \"shared_name\": \"34\", \"id\": \"34\"}}, {\"position\": {\"y\": 204.0049480074644, \"x\": 179.5099014121294}, \"selected\": false, \"data\": {\"name\": \"33\", \"degree\": 1, \"SUID\": 4757, \"selected\": false, \"closeness\": 0.08429118773946359, \"betweenness\": 0.0, \"shared_name\": \"33\", \"id\": \"33\"}}, {\"position\": {\"y\": -21.27566112339497, \"x\": 71.71897733986378}, \"selected\": false, \"data\": {\"name\": \"32\", \"degree\": 2, \"SUID\": 4756, \"selected\": false, \"closeness\": 0.08429118773946359, \"betweenness\": 0.0, \"shared_name\": \"32\", \"id\": \"32\"}}, {\"position\": {\"y\": 160.43118702113628, \"x\": 240.79067838966847}, \"selected\": false, \"data\": {\"name\": \"31\", \"degree\": 1, \"SUID\": 4755, \"selected\": false, \"closeness\": 0.08429118773946359, \"betweenness\": 0.0, \"shared_name\": \"31\", \"id\": \"31\"}}, {\"position\": {\"y\": 99.95705066859722, \"x\": 166.39829862892628}, \"selected\": false, \"data\": {\"name\": \"30\", \"degree\": 1, \"SUID\": 4754, \"selected\": false, \"closeness\": 0.08429118773946359, \"betweenness\": 0.0, \"shared_name\": \"30\", \"id\": \"30\"}}, {\"position\": {\"y\": 180.4023326510191, \"x\": -194.30546724021434}, \"selected\": false, \"data\": {\"name\": \"29\", \"degree\": 4, \"SUID\": 4753, \"selected\": false, \"closeness\": 0.0, \"betweenness\": 0.0, \"shared_name\": \"29\", \"id\": \"29\"}}, {\"position\": {\"y\": 75.59749256312847, \"x\": -87.81602632224559}, \"selected\": false, \"data\": {\"name\": \"28\", \"degree\": 2, \"SUID\": 4752, \"selected\": false, \"closeness\": 0.09056668378702278, \"betweenness\": 0.0, \"shared_name\": \"28\", \"id\": \"28\"}}, {\"position\": {\"y\": 23.842899667620657, \"x\": 202.28108061134816}, \"selected\": false, \"data\": {\"name\": \"27\", \"degree\": 3, \"SUID\": 4751, \"selected\": false, \"closeness\": 0.10401891252955082, \"betweenness\": 0.0, \"shared_name\": \"27\", \"id\": \"27\"}}, {\"position\": {\"y\": -41.06710399448872, \"x\": 209.40315092384816}, \"selected\": false, \"data\": {\"name\": \"26\", \"degree\": 2, \"SUID\": 4750, \"selected\": false, \"closeness\": 0.10185185185185185, \"betweenness\": 0.0, \"shared_name\": \"26\", \"id\": \"26\"}}, {\"position\": {\"y\": -218.84862865269184, \"x\": -204.93473970115184}, \"selected\": false, \"data\": {\"name\": \"25\", \"degree\": 4, \"SUID\": 4749, \"selected\": false, \"closeness\": 0.0, \"betweenness\": 0.0, \"shared_name\": \"25\", \"id\": \"25\"}}, {\"position\": {\"y\": -59.54735912144184, \"x\": 135.35380400002003}, \"selected\": false, \"data\": {\"name\": \"24\", \"degree\": 3, \"SUID\": 4748, \"selected\": false, \"closeness\": 0.10185185185185185, \"betweenness\": 0.0, \"shared_name\": \"24\", \"id\": \"24\"}}, {\"position\": {\"y\": 20.59822498500347, \"x\": 56.036970503926284}, \"selected\": false, \"data\": {\"name\": \"23\", \"degree\": 5, \"SUID\": 4747, \"selected\": false, \"closeness\": 0.09683794466403162, \"betweenness\": 0.0012368583797155227, \"shared_name\": \"23\", \"id\": \"23\"}}, {\"position\": {\"y\": -14.984386098980906, \"x\": 1.328626998066909}, \"selected\": false, \"data\": {\"name\": \"22\", \"degree\": 3, \"SUID\": 4746, \"selected\": false, \"closeness\": 0.08429118773946359, \"betweenness\": 0.000944822373393802, \"shared_name\": \"22\", \"id\": \"22\"}}, {\"position\": {\"y\": 12.878498422503469, \"x\": 148.69763029396535}, \"selected\": false, \"data\": {\"name\": \"21\", \"degree\": 4, \"SUID\": 4745, \"selected\": false, \"closeness\": 0.11408199643493762, \"betweenness\": 0.0, \"shared_name\": \"21\", \"id\": \"21\"}}, {\"position\": {\"y\": 32.172779428362844, \"x\": -173.31279145896434}, \"selected\": false, \"data\": {\"name\": \"20\", \"degree\": 3, \"SUID\": 4744, \"selected\": false, \"closeness\": 0.010101010101010102, \"betweenness\": 0.0014773586202157637, \"shared_name\": \"20\", \"id\": \"20\"}}, {\"position\": {\"y\": 236.52739845454693, \"x\": -49.97538911521434}, \"selected\": false, \"data\": {\"name\": \"19\", \"degree\": 4, \"SUID\": 4743, \"selected\": false, \"closeness\": 0.010101010101010102, \"betweenness\": 0.001520305091733663, \"shared_name\": \"19\", \"id\": \"19\"}}, {\"position\": {\"y\": 119.61248432338238, \"x\": -157.63469087302684}, \"selected\": false, \"data\": {\"name\": \"18\", \"degree\": 12, \"SUID\": 4742, \"selected\": false, \"closeness\": 0.0, \"betweenness\": 0.0, \"shared_name\": \"18\", \"id\": \"18\"}}, {\"position\": {\"y\": -185.0895344144106, \"x\": -138.0991073769331}, \"selected\": false, \"data\": {\"name\": \"17\", \"degree\": 1, \"SUID\": 4741, \"selected\": false, \"closeness\": 0.08429118773946359, \"betweenness\": 0.0, \"shared_name\": \"17\", \"id\": \"17\"}}, {\"position\": {\"y\": 286.9223521822691, \"x\": 142.71285856544972}, \"selected\": false, \"data\": {\"name\": \"16\", \"degree\": 1, \"SUID\": 4740, \"selected\": false, \"closeness\": 0.08429118773946359, \"betweenness\": 0.0, \"shared_name\": \"16\", \"id\": \"16\"}}, {\"position\": {\"y\": 44.56807361781597, \"x\": -255.4821640175581}, \"selected\": false, \"data\": {\"name\": \"15\", \"degree\": 3, \"SUID\": 4739, \"selected\": false, \"closeness\": 0.08429118773946359, \"betweenness\": 0.004535147392290249, \"shared_name\": \"15\", \"id\": \"15\"}}, {\"position\": {\"y\": -142.15246166050434, \"x\": 76.12635649025441}, \"selected\": false, \"data\": {\"name\": \"14\", \"degree\": 2, \"SUID\": 4738, \"selected\": false, \"closeness\": 0.08429118773946359, \"betweenness\": 0.0, \"shared_name\": \"14\", \"id\": \"14\"}}, {\"position\": {\"y\": -222.8452717190981, \"x\": 27.871076949238784}, \"selected\": false, \"data\": {\"name\": \"13\", \"degree\": 1, \"SUID\": 4737, \"selected\": false, \"closeness\": 0.08429118773946359, \"betweenness\": 0.0, \"shared_name\": \"13\", \"id\": \"13\"}}, {\"position\": {\"y\": -208.63418163120747, \"x\": -17.434648148417466}, \"selected\": false, \"data\": {\"name\": \"12\", \"degree\": 3, \"SUID\": 4736, \"selected\": false, \"closeness\": 0.09056668378702278, \"betweenness\": 0.0, \"shared_name\": \"12\", \"id\": \"12\"}}, {\"position\": {\"y\": 180.39978824794292, \"x\": 28.29823149025441}, \"selected\": false, \"data\": {\"name\": \"11\", \"degree\": 4, \"SUID\": 4735, \"selected\": false, \"closeness\": 0.0, \"betweenness\": 0.0, \"shared_name\": \"11\", \"id\": \"11\"}}, {\"position\": {\"y\": -19.40737499058247, \"x\": 172.17918241798878}, \"selected\": false, \"data\": {\"name\": \"10\", \"degree\": 3, \"SUID\": 4734, \"selected\": false, \"closeness\": 0.10185185185185185, \"betweenness\": 0.0, \"shared_name\": \"10\", \"id\": \"10\"}}, {\"position\": {\"y\": -6.183467519879343, \"x\": 118.63667143166066}, \"selected\": false, \"data\": {\"name\": \"9\", \"degree\": 19, \"SUID\": 4733, \"selected\": false, \"closeness\": 0.12695924764890282, \"betweenness\": 0.0, \"shared_name\": \"9\", \"id\": \"9\"}}, {\"position\": {\"y\": -5.511134756207468, \"x\": -54.71635591208934}, \"selected\": false, \"data\": {\"name\": \"8\", \"degree\": 4, \"SUID\": 4732, \"selected\": false, \"closeness\": 0.1111111111111111, \"betweenness\": 0.0, \"shared_name\": \"8\", \"id\": \"8\"}}, {\"position\": {\"y\": 57.19081531703472, \"x\": 1.585432417988784}, \"selected\": false, \"data\": {\"name\": \"7\", \"degree\": 11, \"SUID\": 4731, \"selected\": false, \"closeness\": 0.10700222564629344, \"betweenness\": 0.0, \"shared_name\": \"7\", \"id\": \"7\"}}, {\"position\": {\"y\": 97.57671772181988, \"x\": -40.667741410136216}, \"selected\": false, \"data\": {\"name\": \"6\", \"degree\": 10, \"SUID\": 4730, \"selected\": false, \"closeness\": 0.11369009241349666, \"betweenness\": 0.0, \"shared_name\": \"6\", \"id\": \"6\"}}, {\"position\": {\"y\": -102.12206615269184, \"x\": 126.86042631447316}, \"selected\": false, \"data\": {\"name\": \"5\", \"degree\": 11, \"SUID\": 4729, \"selected\": false, \"closeness\": 0.0937444621655148, \"betweenness\": 0.002937538651824366, \"shared_name\": \"5\", \"id\": \"5\"}}, {\"position\": {\"y\": 68.8631023043394, \"x\": 27.06886137306691}, \"selected\": false, \"data\": {\"name\": \"4\", \"degree\": 7, \"SUID\": 4728, \"selected\": false, \"closeness\": 0.09683794466403162, \"betweenness\": 0.0007644471930186215, \"shared_name\": \"4\", \"id\": \"4\"}}, {\"position\": {\"y\": -54.07870067417622, \"x\": -151.4835067909956}, \"selected\": false, \"data\": {\"name\": \"3\", \"degree\": 19, \"SUID\": 4727, \"selected\": false, \"closeness\": 0.09090909090909091, \"betweenness\": 0.028044045901188766, \"shared_name\": \"3\", \"id\": \"3\"}}, {\"position\": {\"y\": -43.76101268589497, \"x\": 13.764173873066909}, \"selected\": false, \"data\": {\"name\": \"2\", \"degree\": 129, \"SUID\": 4726, \"selected\": false, \"closeness\": 0.12373737373737374, \"betweenness\": 0.11568061568061569, \"shared_name\": \"2\", \"id\": \"2\"}}, {\"position\": {\"y\": 87.19011341273784, \"x\": 96.02162016212941}, \"selected\": false, \"data\": {\"name\": \"1\", \"degree\": 44, \"SUID\": 4725, \"selected\": false, \"closeness\": 0.12373737373737374, \"betweenness\": 0.07606679035250462, \"shared_name\": \"1\", \"id\": \"1\"}}, {\"position\": {\"y\": 27.212208139300344, \"x\": -78.83192598044872}, \"selected\": false, \"data\": {\"name\": \"0\", \"degree\": 20, \"SUID\": 4724, \"selected\": false, \"closeness\": 0.11722488038277513, \"betweenness\": 0.019128358414072705, \"shared_name\": \"0\", \"id\": \"0\"}}],\n",
        "                edges: [{\"selected\": false, \"data\": {\"source\": \"99\", \"SUID\": 5044, \"selected\": false, \"id\": \"5044\", \"target\": \"3\"}}, {\"selected\": false, \"data\": {\"source\": \"98\", \"SUID\": 5043, \"selected\": false, \"id\": \"5043\", \"target\": \"2\"}}, {\"selected\": false, \"data\": {\"source\": \"97\", \"SUID\": 5042, \"selected\": false, \"id\": \"5042\", \"target\": \"1\"}}, {\"selected\": false, \"data\": {\"source\": \"96\", \"SUID\": 5041, \"selected\": false, \"id\": \"5041\", \"target\": \"5\"}}, {\"selected\": false, \"data\": {\"source\": \"95\", \"SUID\": 5040, \"selected\": false, \"id\": \"5040\", \"target\": \"2\"}}, {\"selected\": false, \"data\": {\"source\": \"94\", \"SUID\": 5039, \"selected\": false, \"id\": \"5039\", \"target\": \"18\"}}, {\"selected\": false, \"data\": {\"source\": \"93\", \"SUID\": 5038, \"selected\": false, \"id\": \"5038\", \"target\": \"25\"}}, {\"selected\": false, \"data\": {\"source\": \"92\", \"SUID\": 5037, \"selected\": false, \"id\": \"5037\", \"target\": \"49\"}}, {\"selected\": false, \"data\": {\"source\": \"91\", \"SUID\": 5036, \"selected\": false, \"id\": \"5036\", \"target\": \"2\"}}, {\"selected\": false, \"data\": {\"source\": \"90\", \"SUID\": 5035, \"selected\": false, \"id\": \"5035\", \"target\": \"2\"}}, {\"selected\": false, \"data\": {\"source\": \"89\", \"SUID\": 5034, \"selected\": false, \"id\": \"5034\", \"target\": \"3\"}}, {\"selected\": false, \"data\": {\"source\": \"88\", \"SUID\": 5033, \"selected\": false, \"id\": \"5033\", \"target\": \"25\"}}, {\"selected\": false, \"data\": {\"source\": \"87\", \"SUID\": 5032, \"selected\": false, \"id\": \"5032\", \"target\": \"2\"}}, {\"selected\": false, \"data\": {\"source\": \"86\", \"SUID\": 5031, \"selected\": false, \"id\": \"5031\", \"target\": \"15\"}}, {\"selected\": false, \"data\": {\"source\": \"85\", \"SUID\": 5030, \"selected\": false, \"id\": \"5030\", \"target\": \"2\"}}, {\"selected\": false, \"data\": {\"source\": \"84\", \"SUID\": 5029, \"selected\": false, \"id\": \"5029\", \"target\": \"2\"}}, {\"selected\": false, \"data\": {\"source\": \"82\", \"SUID\": 5028, \"selected\": false, \"id\": \"5028\", \"target\": \"18\"}}, {\"selected\": false, \"data\": {\"source\": \"81\", \"SUID\": 5027, \"selected\": false, \"id\": \"5027\", \"target\": \"29\"}}, {\"selected\": false, \"data\": {\"source\": \"80\", \"SUID\": 5026, \"selected\": false, \"id\": \"5026\", \"target\": \"68\"}}, {\"selected\": false, \"data\": {\"source\": \"79\", \"SUID\": 5025, \"selected\": false, \"id\": \"5025\", \"target\": \"11\"}}, {\"selected\": false, \"data\": {\"source\": \"78\", \"SUID\": 5024, \"selected\": false, \"id\": \"5024\", \"target\": \"19\"}}, {\"selected\": false, \"data\": {\"source\": \"77\", \"SUID\": 5023, \"selected\": false, \"id\": \"5023\", \"target\": \"54\"}}, {\"selected\": false, \"data\": {\"source\": \"76\", \"SUID\": 5022, \"selected\": false, \"id\": \"5022\", \"target\": \"2\"}}, {\"selected\": false, \"data\": {\"source\": \"73\", \"SUID\": 5021, \"selected\": false, \"id\": \"5021\", \"target\": \"70\"}}, {\"selected\": false, \"data\": {\"source\": \"72\", \"SUID\": 5020, \"selected\": false, \"id\": \"5020\", \"target\": \"2\"}}, {\"selected\": false, \"data\": {\"source\": \"71\", \"SUID\": 5019, \"selected\": false, \"id\": \"5019\", \"target\": \"3\"}}, {\"selected\": false, \"data\": {\"source\": \"69\", \"SUID\": 5018, \"selected\": false, \"id\": \"5018\", \"target\": \"2\"}}, {\"selected\": false, \"data\": {\"source\": \"68\", \"SUID\": 5017, \"selected\": false, \"id\": \"5017\", \"target\": \"3\"}}, {\"selected\": false, \"data\": {\"source\": \"67\", \"SUID\": 5016, \"selected\": false, \"id\": \"5016\", \"target\": \"2\"}}, {\"selected\": false, \"data\": {\"source\": \"66\", \"SUID\": 5015, \"selected\": false, \"id\": \"5015\", \"target\": \"2\"}}, {\"selected\": false, \"data\": {\"source\": \"62\", \"SUID\": 5014, \"selected\": false, \"id\": \"5014\", \"target\": \"55\"}}, {\"selected\": false, \"data\": {\"source\": \"61\", \"SUID\": 5013, \"selected\": false, \"id\": \"5013\", \"target\": \"2\"}}, {\"selected\": false, \"data\": {\"source\": \"60\", \"SUID\": 5012, \"selected\": false, \"id\": \"5012\", \"target\": \"2\"}}, {\"selected\": false, \"data\": {\"source\": \"59\", \"SUID\": 5011, \"selected\": false, \"id\": \"5011\", \"target\": \"2\"}}, {\"selected\": false, \"data\": {\"source\": \"59\", \"SUID\": 5010, \"selected\": false, \"id\": \"5010\", \"target\": \"2\"}}, {\"selected\": false, \"data\": {\"source\": \"59\", \"SUID\": 5009, \"selected\": false, \"id\": \"5009\", \"target\": \"2\"}}, {\"selected\": false, \"data\": {\"source\": \"59\", \"SUID\": 5008, \"selected\": false, \"id\": \"5008\", \"target\": \"2\"}}, {\"selected\": false, \"data\": {\"source\": \"59\", \"SUID\": 5007, \"selected\": false, \"id\": \"5007\", \"target\": \"48\"}}, {\"selected\": false, \"data\": {\"source\": \"58\", \"SUID\": 5006, \"selected\": false, \"id\": \"5006\", \"target\": \"15\"}}, {\"selected\": false, \"data\": {\"source\": \"57\", \"SUID\": 5005, \"selected\": false, \"id\": \"5005\", \"target\": \"1\"}}, {\"selected\": false, \"data\": {\"source\": \"56\", \"SUID\": 5004, \"selected\": false, \"id\": \"5004\", \"target\": \"2\"}}, {\"selected\": false, \"data\": {\"source\": \"56\", \"SUID\": 5003, \"selected\": false, \"id\": \"5003\", \"target\": \"2\"}}, {\"selected\": false, \"data\": {\"source\": \"55\", \"SUID\": 5002, \"selected\": false, \"id\": \"5002\", \"target\": \"1\"}}, {\"selected\": false, \"data\": {\"source\": \"54\", \"SUID\": 5001, \"selected\": false, \"id\": \"5001\", \"target\": \"2\"}}, {\"selected\": false, \"data\": {\"source\": \"52\", \"SUID\": 5000, \"selected\": false, \"id\": \"5000\", \"target\": \"1\"}}, {\"selected\": false, \"data\": {\"source\": \"51\", \"SUID\": 4999, \"selected\": false, \"id\": \"4999\", \"target\": \"3\"}}, {\"selected\": false, \"data\": {\"source\": \"51\", \"SUID\": 4998, \"selected\": false, \"id\": \"4998\", \"target\": \"2\"}}, {\"selected\": false, \"data\": {\"source\": \"51\", \"SUID\": 4997, \"selected\": false, \"id\": \"4997\", \"target\": \"1\"}}, {\"selected\": false, \"data\": {\"source\": \"47\", \"SUID\": 4996, \"selected\": false, \"id\": \"4996\", \"target\": \"54\"}}, {\"selected\": false, \"data\": {\"source\": \"47\", \"SUID\": 4995, \"selected\": false, \"id\": \"4995\", \"target\": \"2\"}}, {\"selected\": false, \"data\": {\"source\": \"47\", \"SUID\": 4994, \"selected\": false, \"id\": \"4994\", \"target\": \"2\"}}, {\"selected\": false, \"data\": {\"source\": \"47\", \"SUID\": 4993, \"selected\": false, \"id\": \"4993\", \"target\": \"2\"}}, {\"selected\": false, \"data\": {\"source\": \"46\", \"SUID\": 4992, \"selected\": false, \"id\": \"4992\", \"target\": \"2\"}}, {\"selected\": false, \"data\": {\"source\": \"45\", \"SUID\": 4991, \"selected\": false, \"id\": \"4991\", \"target\": \"18\"}}, {\"selected\": false, \"data\": {\"source\": \"45\", \"SUID\": 4990, \"selected\": false, \"id\": \"4990\", \"target\": \"2\"}}, {\"selected\": false, \"data\": {\"source\": \"44\", \"SUID\": 4989, \"selected\": false, \"id\": \"4989\", \"target\": \"2\"}}, {\"selected\": false, \"data\": {\"source\": \"44\", \"SUID\": 4988, \"selected\": false, \"id\": \"4988\", \"target\": \"25\"}}, {\"selected\": false, \"data\": {\"source\": \"43\", \"SUID\": 4987, \"selected\": false, \"id\": \"4987\", \"target\": \"2\"}}, {\"selected\": false, \"data\": {\"source\": \"43\", \"SUID\": 4986, \"selected\": false, \"id\": \"4986\", \"target\": \"0\"}}, {\"selected\": false, \"data\": {\"source\": \"42\", \"SUID\": 4985, \"selected\": false, \"id\": \"4985\", \"target\": \"3\"}}, {\"selected\": false, \"data\": {\"source\": \"41\", \"SUID\": 4984, \"selected\": false, \"id\": \"4984\", \"target\": \"2\"}}, {\"selected\": false, \"data\": {\"source\": \"40\", \"SUID\": 4983, \"selected\": false, \"id\": \"4983\", \"target\": \"1\"}}, {\"selected\": false, \"data\": {\"source\": \"39\", \"SUID\": 4982, \"selected\": false, \"id\": \"4982\", \"target\": \"2\"}}, {\"selected\": false, \"data\": {\"source\": \"38\", \"SUID\": 4981, \"selected\": false, \"id\": \"4981\", \"target\": \"29\"}}, {\"selected\": false, \"data\": {\"source\": \"37\", \"SUID\": 4980, \"selected\": false, \"id\": \"4980\", \"target\": \"2\"}}, {\"selected\": false, \"data\": {\"source\": \"36\", \"SUID\": 4979, \"selected\": false, \"id\": \"4979\", \"target\": \"2\"}}, {\"selected\": false, \"data\": {\"source\": \"35\", \"SUID\": 4978, \"selected\": false, \"id\": \"4978\", \"target\": \"18\"}}, {\"selected\": false, \"data\": {\"source\": \"35\", \"SUID\": 4977, \"selected\": false, \"id\": \"4977\", \"target\": \"4\"}}, {\"selected\": false, \"data\": {\"source\": \"35\", \"SUID\": 4976, \"selected\": false, \"id\": \"4976\", \"target\": \"2\"}}, {\"selected\": false, \"data\": {\"source\": \"33\", \"SUID\": 4975, \"selected\": false, \"id\": \"4975\", \"target\": \"1\"}}, {\"selected\": false, \"data\": {\"source\": \"32\", \"SUID\": 4974, \"selected\": false, \"id\": \"4974\", \"target\": \"1\"}}, {\"selected\": false, \"data\": {\"source\": \"32\", \"SUID\": 4973, \"selected\": false, \"id\": \"4973\", \"target\": \"1\"}}, {\"selected\": false, \"data\": {\"source\": \"31\", \"SUID\": 4972, \"selected\": false, \"id\": \"4972\", \"target\": \"1\"}}, {\"selected\": false, \"data\": {\"source\": \"30\", \"SUID\": 4971, \"selected\": false, \"id\": \"4971\", \"target\": \"2\"}}, {\"selected\": false, \"data\": {\"source\": \"28\", \"SUID\": 4970, \"selected\": false, \"id\": \"4970\", \"target\": \"22\"}}, {\"selected\": false, \"data\": {\"source\": \"28\", \"SUID\": 4969, \"selected\": false, \"id\": \"4969\", \"target\": \"2\"}}, {\"selected\": false, \"data\": {\"source\": \"27\", \"SUID\": 4968, \"selected\": false, \"id\": \"4968\", \"target\": \"63\"}}, {\"selected\": false, \"data\": {\"source\": \"27\", \"SUID\": 4967, \"selected\": false, \"id\": \"4967\", \"target\": \"2\"}}, {\"selected\": false, \"data\": {\"source\": \"27\", \"SUID\": 4966, \"selected\": false, \"id\": \"4966\", \"target\": \"1\"}}, {\"selected\": false, \"data\": {\"source\": \"26\", \"SUID\": 4965, \"selected\": false, \"id\": \"4965\", \"target\": \"2\"}}, {\"selected\": false, \"data\": {\"source\": \"26\", \"SUID\": 4964, \"selected\": false, \"id\": \"4964\", \"target\": \"1\"}}, {\"selected\": false, \"data\": {\"source\": \"24\", \"SUID\": 4963, \"selected\": false, \"id\": \"4963\", \"target\": \"2\"}}, {\"selected\": false, \"data\": {\"source\": \"24\", \"SUID\": 4962, \"selected\": false, \"id\": \"4962\", \"target\": \"2\"}}, {\"selected\": false, \"data\": {\"source\": \"24\", \"SUID\": 4961, \"selected\": false, \"id\": \"4961\", \"target\": \"1\"}}, {\"selected\": false, \"data\": {\"source\": \"23\", \"SUID\": 4960, \"selected\": false, \"id\": \"4960\", \"target\": \"2\"}}, {\"selected\": false, \"data\": {\"source\": \"23\", \"SUID\": 4959, \"selected\": false, \"id\": \"4959\", \"target\": \"1\"}}, {\"selected\": false, \"data\": {\"source\": \"22\", \"SUID\": 4958, \"selected\": false, \"id\": \"4958\", \"target\": \"1\"}}, {\"selected\": false, \"data\": {\"source\": \"21\", \"SUID\": 4957, \"selected\": false, \"id\": \"4957\", \"target\": \"5\"}}, {\"selected\": false, \"data\": {\"source\": \"21\", \"SUID\": 4956, \"selected\": false, \"id\": \"4956\", \"target\": \"2\"}}, {\"selected\": false, \"data\": {\"source\": \"21\", \"SUID\": 4955, \"selected\": false, \"id\": \"4955\", \"target\": \"2\"}}, {\"selected\": false, \"data\": {\"source\": \"21\", \"SUID\": 4954, \"selected\": false, \"id\": \"4954\", \"target\": \"1\"}}, {\"selected\": false, \"data\": {\"source\": \"20\", \"SUID\": 4953, \"selected\": false, \"id\": \"4953\", \"target\": \"18\"}}, {\"selected\": false, \"data\": {\"source\": \"19\", \"SUID\": 4952, \"selected\": false, \"id\": \"4952\", \"target\": \"18\"}}, {\"selected\": false, \"data\": {\"source\": \"17\", \"SUID\": 4951, \"selected\": false, \"id\": \"4951\", \"target\": \"2\"}}, {\"selected\": false, \"data\": {\"source\": \"16\", \"SUID\": 4950, \"selected\": false, \"id\": \"4950\", \"target\": \"1\"}}, {\"selected\": false, \"data\": {\"source\": \"15\", \"SUID\": 4949, \"selected\": false, \"id\": \"4949\", \"target\": \"2\"}}, {\"selected\": false, \"data\": {\"source\": \"14\", \"SUID\": 4948, \"selected\": false, \"id\": \"4948\", \"target\": \"2\"}}, {\"selected\": false, \"data\": {\"source\": \"14\", \"SUID\": 4947, \"selected\": false, \"id\": \"4947\", \"target\": \"2\"}}, {\"selected\": false, \"data\": {\"source\": \"13\", \"SUID\": 4946, \"selected\": false, \"id\": \"4946\", \"target\": \"2\"}}, {\"selected\": false, \"data\": {\"source\": \"12\", \"SUID\": 4945, \"selected\": false, \"id\": \"4945\", \"target\": \"34\"}}, {\"selected\": false, \"data\": {\"source\": \"12\", \"SUID\": 4944, \"selected\": false, \"id\": \"4944\", \"target\": \"2\"}}, {\"selected\": false, \"data\": {\"source\": \"12\", \"SUID\": 4943, \"selected\": false, \"id\": \"4943\", \"target\": \"2\"}}, {\"selected\": false, \"data\": {\"source\": \"10\", \"SUID\": 4942, \"selected\": false, \"id\": \"4942\", \"target\": \"2\"}}, {\"selected\": false, \"data\": {\"source\": \"10\", \"SUID\": 4941, \"selected\": false, \"id\": \"4941\", \"target\": \"1\"}}, {\"selected\": false, \"data\": {\"source\": \"10\", \"SUID\": 4940, \"selected\": false, \"id\": \"4940\", \"target\": \"1\"}}, {\"selected\": false, \"data\": {\"source\": \"9\", \"SUID\": 4939, \"selected\": false, \"id\": \"4939\", \"target\": \"51\"}}, {\"selected\": false, \"data\": {\"source\": \"9\", \"SUID\": 4938, \"selected\": false, \"id\": \"4938\", \"target\": \"50\"}}, {\"selected\": false, \"data\": {\"source\": \"9\", \"SUID\": 4937, \"selected\": false, \"id\": \"4937\", \"target\": \"49\"}}, {\"selected\": false, \"data\": {\"source\": \"9\", \"SUID\": 4936, \"selected\": false, \"id\": \"4936\", \"target\": \"48\"}}, {\"selected\": false, \"data\": {\"source\": \"9\", \"SUID\": 4935, \"selected\": false, \"id\": \"4935\", \"target\": \"75\"}}, {\"selected\": false, \"data\": {\"source\": \"9\", \"SUID\": 4934, \"selected\": false, \"id\": \"4934\", \"target\": \"5\"}}, {\"selected\": false, \"data\": {\"source\": \"9\", \"SUID\": 4933, \"selected\": false, \"id\": \"4933\", \"target\": \"4\"}}, {\"selected\": false, \"data\": {\"source\": \"9\", \"SUID\": 4932, \"selected\": false, \"id\": \"4932\", \"target\": \"2\"}}, {\"selected\": false, \"data\": {\"source\": \"9\", \"SUID\": 4931, \"selected\": false, \"id\": \"4931\", \"target\": \"2\"}}, {\"selected\": false, \"data\": {\"source\": \"9\", \"SUID\": 4930, \"selected\": false, \"id\": \"4930\", \"target\": \"2\"}}, {\"selected\": false, \"data\": {\"source\": \"9\", \"SUID\": 4929, \"selected\": false, \"id\": \"4929\", \"target\": \"2\"}}, {\"selected\": false, \"data\": {\"source\": \"9\", \"SUID\": 4928, \"selected\": false, \"id\": \"4928\", \"target\": \"2\"}}, {\"selected\": false, \"data\": {\"source\": \"9\", \"SUID\": 4927, \"selected\": false, \"id\": \"4927\", \"target\": \"2\"}}, {\"selected\": false, \"data\": {\"source\": \"9\", \"SUID\": 4926, \"selected\": false, \"id\": \"4926\", \"target\": \"2\"}}, {\"selected\": false, \"data\": {\"source\": \"9\", \"SUID\": 4925, \"selected\": false, \"id\": \"4925\", \"target\": \"2\"}}, {\"selected\": false, \"data\": {\"source\": \"9\", \"SUID\": 4924, \"selected\": false, \"id\": \"4924\", \"target\": \"2\"}}, {\"selected\": false, \"data\": {\"source\": \"9\", \"SUID\": 4923, \"selected\": false, \"id\": \"4923\", \"target\": \"2\"}}, {\"selected\": false, \"data\": {\"source\": \"9\", \"SUID\": 4922, \"selected\": false, \"id\": \"4922\", \"target\": \"2\"}}, {\"selected\": false, \"data\": {\"source\": \"9\", \"SUID\": 4921, \"selected\": false, \"id\": \"4921\", \"target\": \"2\"}}, {\"selected\": false, \"data\": {\"source\": \"8\", \"SUID\": 4920, \"selected\": false, \"id\": \"4920\", \"target\": \"3\"}}, {\"selected\": false, \"data\": {\"source\": \"8\", \"SUID\": 4919, \"selected\": false, \"id\": \"4919\", \"target\": \"2\"}}, {\"selected\": false, \"data\": {\"source\": \"8\", \"SUID\": 4918, \"selected\": false, \"id\": \"4918\", \"target\": \"2\"}}, {\"selected\": false, \"data\": {\"source\": \"8\", \"SUID\": 4917, \"selected\": false, \"id\": \"4917\", \"target\": \"1\"}}, {\"selected\": false, \"data\": {\"source\": \"7\", \"SUID\": 4916, \"selected\": false, \"id\": \"4916\", \"target\": \"22\"}}, {\"selected\": false, \"data\": {\"source\": \"7\", \"SUID\": 4915, \"selected\": false, \"id\": \"4915\", \"target\": \"5\"}}, {\"selected\": false, \"data\": {\"source\": \"7\", \"SUID\": 4914, \"selected\": false, \"id\": \"4914\", \"target\": \"18\"}}, {\"selected\": false, \"data\": {\"source\": \"7\", \"SUID\": 4913, \"selected\": false, \"id\": \"4913\", \"target\": \"2\"}}, {\"selected\": false, \"data\": {\"source\": \"7\", \"SUID\": 4912, \"selected\": false, \"id\": \"4912\", \"target\": \"2\"}}, {\"selected\": false, \"data\": {\"source\": \"7\", \"SUID\": 4911, \"selected\": false, \"id\": \"4911\", \"target\": \"2\"}}, {\"selected\": false, \"data\": {\"source\": \"7\", \"SUID\": 4910, \"selected\": false, \"id\": \"4910\", \"target\": \"2\"}}, {\"selected\": false, \"data\": {\"source\": \"7\", \"SUID\": 4909, \"selected\": false, \"id\": \"4909\", \"target\": \"2\"}}, {\"selected\": false, \"data\": {\"source\": \"7\", \"SUID\": 4908, \"selected\": false, \"id\": \"4908\", \"target\": \"2\"}}, {\"selected\": false, \"data\": {\"source\": \"7\", \"SUID\": 4907, \"selected\": false, \"id\": \"4907\", \"target\": \"2\"}}, {\"selected\": false, \"data\": {\"source\": \"7\", \"SUID\": 4906, \"selected\": false, \"id\": \"4906\", \"target\": \"2\"}}, {\"selected\": false, \"data\": {\"source\": \"6\", \"SUID\": 4905, \"selected\": false, \"id\": \"4905\", \"target\": \"23\"}}, {\"selected\": false, \"data\": {\"source\": \"6\", \"SUID\": 4904, \"selected\": false, \"id\": \"4904\", \"target\": \"19\"}}, {\"selected\": false, \"data\": {\"source\": \"6\", \"SUID\": 4903, \"selected\": false, \"id\": \"4903\", \"target\": \"50\"}}, {\"selected\": false, \"data\": {\"source\": \"6\", \"SUID\": 4902, \"selected\": false, \"id\": \"4902\", \"target\": \"18\"}}, {\"selected\": false, \"data\": {\"source\": \"6\", \"SUID\": 4901, \"selected\": false, \"id\": \"4901\", \"target\": \"18\"}}, {\"selected\": false, \"data\": {\"source\": \"6\", \"SUID\": 4900, \"selected\": false, \"id\": \"4900\", \"target\": \"11\"}}, {\"selected\": false, \"data\": {\"source\": \"6\", \"SUID\": 4899, \"selected\": false, \"id\": \"4899\", \"target\": \"3\"}}, {\"selected\": false, \"data\": {\"source\": \"6\", \"SUID\": 4898, \"selected\": false, \"id\": \"4898\", \"target\": \"2\"}}, {\"selected\": false, \"data\": {\"source\": \"6\", \"SUID\": 4897, \"selected\": false, \"id\": \"4897\", \"target\": \"2\"}}, {\"selected\": false, \"data\": {\"source\": \"6\", \"SUID\": 4896, \"selected\": false, \"id\": \"4896\", \"target\": \"65\"}}, {\"selected\": false, \"data\": {\"source\": \"5\", \"SUID\": 4895, \"selected\": false, \"id\": \"4895\", \"target\": \"23\"}}, {\"selected\": false, \"data\": {\"source\": \"5\", \"SUID\": 4894, \"selected\": false, \"id\": \"4894\", \"target\": \"53\"}}, {\"selected\": false, \"data\": {\"source\": \"5\", \"SUID\": 4893, \"selected\": false, \"id\": \"4893\", \"target\": \"2\"}}, {\"selected\": false, \"data\": {\"source\": \"5\", \"SUID\": 4892, \"selected\": false, \"id\": \"4892\", \"target\": \"2\"}}, {\"selected\": false, \"data\": {\"source\": \"5\", \"SUID\": 4891, \"selected\": false, \"id\": \"4891\", \"target\": \"2\"}}, {\"selected\": false, \"data\": {\"source\": \"5\", \"SUID\": 4890, \"selected\": false, \"id\": \"4890\", \"target\": \"2\"}}, {\"selected\": false, \"data\": {\"source\": \"5\", \"SUID\": 4889, \"selected\": false, \"id\": \"4889\", \"target\": \"2\"}}, {\"selected\": false, \"data\": {\"source\": \"4\", \"SUID\": 4888, \"selected\": false, \"id\": \"4888\", \"target\": \"2\"}}, {\"selected\": false, \"data\": {\"source\": \"4\", \"SUID\": 4887, \"selected\": false, \"id\": \"4887\", \"target\": \"2\"}}, {\"selected\": false, \"data\": {\"source\": \"4\", \"SUID\": 4886, \"selected\": false, \"id\": \"4886\", \"target\": \"1\"}}, {\"selected\": false, \"data\": {\"source\": \"3\", \"SUID\": 4885, \"selected\": false, \"id\": \"4885\", \"target\": \"20\"}}, {\"selected\": false, \"data\": {\"source\": \"3\", \"SUID\": 4884, \"selected\": false, \"id\": \"4884\", \"target\": \"18\"}}, {\"selected\": false, \"data\": {\"source\": \"3\", \"SUID\": 4883, \"selected\": false, \"id\": \"4883\", \"target\": \"48\"}}, {\"selected\": false, \"data\": {\"source\": \"3\", \"SUID\": 4882, \"selected\": false, \"id\": \"4882\", \"target\": \"3\"}}, {\"selected\": false, \"data\": {\"source\": \"3\", \"SUID\": 4881, \"selected\": false, \"id\": \"4881\", \"target\": \"2\"}}, {\"selected\": false, \"data\": {\"source\": \"3\", \"SUID\": 4880, \"selected\": false, \"id\": \"4880\", \"target\": \"2\"}}, {\"selected\": false, \"data\": {\"source\": \"3\", \"SUID\": 4879, \"selected\": false, \"id\": \"4879\", \"target\": \"2\"}}, {\"selected\": false, \"data\": {\"source\": \"3\", \"SUID\": 4878, \"selected\": false, \"id\": \"4878\", \"target\": \"2\"}}, {\"selected\": false, \"data\": {\"source\": \"3\", \"SUID\": 4877, \"selected\": false, \"id\": \"4877\", \"target\": \"64\"}}, {\"selected\": false, \"data\": {\"source\": \"2\", \"SUID\": 4876, \"selected\": false, \"id\": \"4876\", \"target\": \"20\"}}, {\"selected\": false, \"data\": {\"source\": \"2\", \"SUID\": 4875, \"selected\": false, \"id\": \"4875\", \"target\": \"11\"}}, {\"selected\": false, \"data\": {\"source\": \"2\", \"SUID\": 4874, \"selected\": false, \"id\": \"4874\", \"target\": \"74\"}}, {\"selected\": false, \"data\": {\"source\": \"2\", \"SUID\": 4873, \"selected\": false, \"id\": \"4873\", \"target\": \"4\"}}, {\"selected\": false, \"data\": {\"source\": \"2\", \"SUID\": 4872, \"selected\": false, \"id\": \"4872\", \"target\": \"3\"}}, {\"selected\": false, \"data\": {\"source\": \"2\", \"SUID\": 4871, \"selected\": false, \"id\": \"4871\", \"target\": \"2\"}}, {\"selected\": false, \"data\": {\"source\": \"2\", \"SUID\": 4870, \"selected\": false, \"id\": \"4870\", \"target\": \"2\"}}, {\"selected\": false, \"data\": {\"source\": \"2\", \"SUID\": 4869, \"selected\": false, \"id\": \"4869\", \"target\": \"2\"}}, {\"selected\": false, \"data\": {\"source\": \"2\", \"SUID\": 4868, \"selected\": false, \"id\": \"4868\", \"target\": \"2\"}}, {\"selected\": false, \"data\": {\"source\": \"2\", \"SUID\": 4867, \"selected\": false, \"id\": \"4867\", \"target\": \"2\"}}, {\"selected\": false, \"data\": {\"source\": \"2\", \"SUID\": 4866, \"selected\": false, \"id\": \"4866\", \"target\": \"2\"}}, {\"selected\": false, \"data\": {\"source\": \"2\", \"SUID\": 4865, \"selected\": false, \"id\": \"4865\", \"target\": \"2\"}}, {\"selected\": false, \"data\": {\"source\": \"2\", \"SUID\": 4864, \"selected\": false, \"id\": \"4864\", \"target\": \"2\"}}, {\"selected\": false, \"data\": {\"source\": \"2\", \"SUID\": 4863, \"selected\": false, \"id\": \"4863\", \"target\": \"1\"}}, {\"selected\": false, \"data\": {\"source\": \"2\", \"SUID\": 4862, \"selected\": false, \"id\": \"4862\", \"target\": \"0\"}}, {\"selected\": false, \"data\": {\"source\": \"1\", \"SUID\": 4861, \"selected\": false, \"id\": \"4861\", \"target\": \"63\"}}, {\"selected\": false, \"data\": {\"source\": \"1\", \"SUID\": 4860, \"selected\": false, \"id\": \"4860\", \"target\": \"83\"}}, {\"selected\": false, \"data\": {\"source\": \"1\", \"SUID\": 4859, \"selected\": false, \"id\": \"4859\", \"target\": \"23\"}}, {\"selected\": false, \"data\": {\"source\": \"1\", \"SUID\": 4858, \"selected\": false, \"id\": \"4858\", \"target\": \"19\"}}, {\"selected\": false, \"data\": {\"source\": \"1\", \"SUID\": 4857, \"selected\": false, \"id\": \"4857\", \"target\": \"49\"}}, {\"selected\": false, \"data\": {\"source\": \"1\", \"SUID\": 4856, \"selected\": false, \"id\": \"4856\", \"target\": \"47\"}}, {\"selected\": false, \"data\": {\"source\": \"1\", \"SUID\": 4855, \"selected\": false, \"id\": \"4855\", \"target\": \"11\"}}, {\"selected\": false, \"data\": {\"source\": \"1\", \"SUID\": 4854, \"selected\": false, \"id\": \"4854\", \"target\": \"65\"}}, {\"selected\": false, \"data\": {\"source\": \"1\", \"SUID\": 4853, \"selected\": false, \"id\": \"4853\", \"target\": \"70\"}}, {\"selected\": false, \"data\": {\"source\": \"1\", \"SUID\": 4852, \"selected\": false, \"id\": \"4852\", \"target\": \"2\"}}, {\"selected\": false, \"data\": {\"source\": \"1\", \"SUID\": 4851, \"selected\": false, \"id\": \"4851\", \"target\": \"2\"}}, {\"selected\": false, \"data\": {\"source\": \"1\", \"SUID\": 4850, \"selected\": false, \"id\": \"4850\", \"target\": \"2\"}}, {\"selected\": false, \"data\": {\"source\": \"1\", \"SUID\": 4849, \"selected\": false, \"id\": \"4849\", \"target\": \"2\"}}, {\"selected\": false, \"data\": {\"source\": \"1\", \"SUID\": 4848, \"selected\": false, \"id\": \"4848\", \"target\": \"2\"}}, {\"selected\": false, \"data\": {\"source\": \"1\", \"SUID\": 4847, \"selected\": false, \"id\": \"4847\", \"target\": \"2\"}}, {\"selected\": false, \"data\": {\"source\": \"1\", \"SUID\": 4846, \"selected\": false, \"id\": \"4846\", \"target\": \"2\"}}, {\"selected\": false, \"data\": {\"source\": \"1\", \"SUID\": 4845, \"selected\": false, \"id\": \"4845\", \"target\": \"2\"}}, {\"selected\": false, \"data\": {\"source\": \"1\", \"SUID\": 4844, \"selected\": false, \"id\": \"4844\", \"target\": \"2\"}}, {\"selected\": false, \"data\": {\"source\": \"1\", \"SUID\": 4843, \"selected\": false, \"id\": \"4843\", \"target\": \"2\"}}, {\"selected\": false, \"data\": {\"source\": \"1\", \"SUID\": 4842, \"selected\": false, \"id\": \"4842\", \"target\": \"1\"}}, {\"selected\": false, \"data\": {\"source\": \"0\", \"SUID\": 4841, \"selected\": false, \"id\": \"4841\", \"target\": \"29\"}}, {\"selected\": false, \"data\": {\"source\": \"0\", \"SUID\": 4840, \"selected\": false, \"id\": \"4840\", \"target\": \"29\"}}, {\"selected\": false, \"data\": {\"source\": \"0\", \"SUID\": 4839, \"selected\": false, \"id\": \"4839\", \"target\": \"25\"}}, {\"selected\": false, \"data\": {\"source\": \"0\", \"SUID\": 4838, \"selected\": false, \"id\": \"4838\", \"target\": \"18\"}}, {\"selected\": false, \"data\": {\"source\": \"0\", \"SUID\": 4837, \"selected\": false, \"id\": \"4837\", \"target\": \"18\"}}, {\"selected\": false, \"data\": {\"source\": \"0\", \"SUID\": 4836, \"selected\": false, \"id\": \"4836\", \"target\": \"70\"}}, {\"selected\": false, \"data\": {\"source\": \"0\", \"SUID\": 4835, \"selected\": false, \"id\": \"4835\", \"target\": \"4\"}}, {\"selected\": false, \"data\": {\"source\": \"0\", \"SUID\": 4834, \"selected\": false, \"id\": \"4834\", \"target\": \"2\"}}, {\"selected\": false, \"data\": {\"source\": \"0\", \"SUID\": 4833, \"selected\": false, \"id\": \"4833\", \"target\": \"2\"}}, {\"selected\": false, \"data\": {\"source\": \"0\", \"SUID\": 4832, \"selected\": false, \"id\": \"4832\", \"target\": \"2\"}}, {\"selected\": false, \"data\": {\"source\": \"0\", \"SUID\": 4831, \"selected\": false, \"id\": \"4831\", \"target\": \"2\"}}, {\"selected\": false, \"data\": {\"source\": \"0\", \"SUID\": 4830, \"selected\": false, \"id\": \"4830\", \"target\": \"2\"}}, {\"selected\": false, \"data\": {\"source\": \"0\", \"SUID\": 4829, \"selected\": false, \"id\": \"4829\", \"target\": \"2\"}}, {\"selected\": false, \"data\": {\"source\": \"0\", \"SUID\": 4828, \"selected\": false, \"id\": \"4828\", \"target\": \"2\"}}, {\"selected\": false, \"data\": {\"source\": \"0\", \"SUID\": 4827, \"selected\": false, \"id\": \"4827\", \"target\": \"2\"}}, {\"selected\": false, \"data\": {\"source\": \"0\", \"SUID\": 4826, \"selected\": false, \"id\": \"4826\", \"target\": \"2\"}}, {\"selected\": false, \"data\": {\"source\": \"0\", \"SUID\": 4825, \"selected\": false, \"id\": \"4825\", \"target\": \"2\"}}, {\"selected\": false, \"data\": {\"source\": \"0\", \"SUID\": 4824, \"selected\": false, \"id\": \"4824\", \"target\": \"1\"}}]\n",
        "            },\n",
        "\n",
        "            layout: {\n",
        "                name: 'preset'\n",
        "            },\n",
        "\n",
        "            ready: function() {\n",
        "                window.cy = this;\n",
        "                cy.fit();\n",
        "                cy.style().fromJson([{\"css\": {\"text-opacity\": 1.0, \"background-opacity\": 1.0, \"font-weight\": \"normal\", \"color\": \"rgb(255,255,255)\", \"border-width\": 4.0, \"width\": 70.0, \"border-color\": \"rgb(0,102,153)\", \"font-size\": 12, \"height\": 30.0, \"content\": \"data(name)\", \"border-opacity\": 1.0, \"shape\": \"roundrectangle\", \"text-halign\": \"center\", \"font-family\": \"HelveticaNeue-UltraLight\", \"text-valign\": \"center\", \"background-color\": \"rgb(0,153,204)\"}, \"selector\": \"node\"}, {\"css\": {\"background-color\": \"rgb(255,255,0)\"}, \"selector\": \"node:selected\"}, {\"css\": {\"opacity\": 1.0, \"source-arrow-shape\": \"none\", \"font-size\": 10, \"font-weight\": \"normal\", \"target-arrow-shape\": \"none\", \"text-opacity\": 1.0, \"color\": \"rgb(0,0,0)\", \"source-arrow-color\": \"rgb(0,0,0)\", \"line-color\": \"rgb(102,102,102)\", \"content\": \"\", \"width\": 3.0, \"line-style\": \"solid\", \"font-family\": \"Dialog\", \"target-arrow-color\": \"rgb(0,0,0)\"}, \"selector\": \"edge\"}, {\"css\": {\"line-color\": \"rgb(255,0,0)\"}, \"selector\": \"edge:selected\"}]).update();\n",
        "            }\n",
        "        });\n",
        "      }\n",
        "\n",
        "      var before_render = function(){\n",
        "        if(window['cytoscape'] === undefined){\n",
        "          console.log(\"wait!\");\n",
        "          window.addEventListener(\"load_cytoscape\", before_render);\n",
        "        } else {\n",
        "          console.log(\"Ready to render graph...\");\n",
        "          render();\n",
        "        }\n",
        "      }\n",
        "\n",
        "      before_render();\n",
        "\n",
        "    })();\n",
        "    </script>\n",
        "</head>\n",
        "\n",
        "<body>\n",
        "  <div id=\"cy1890f79a-9e48-40cc-aea7-22a74469144c\"></div>\n",
        "  <!-- When only #uuid div is placed on this page, the height of output-box on ipynb will be 0px. One line below will prevent that. -->\n",
        "  <div id=\"dammy\" style=\"width:1160px;height:700px\">\n",
        "</body>\n",
        "\n",
        "</html>"
       ],
       "metadata": {},
       "output_type": "display_data",
       "text": [
        "<IPython.core.display.HTML at 0x10bb13e50>"
       ]
      }
     ],
     "prompt_number": 22
    }
   ],
   "metadata": {}
  }
 ]
}